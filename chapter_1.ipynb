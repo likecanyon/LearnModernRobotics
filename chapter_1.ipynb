{
 "cells": [
  {
   "cell_type": "markdown",
   "metadata": {},
   "source": [
    "# 第一章 绪论\n",
    "\n",
    "### 什么是机构？\n",
    "机构是由被称为杆件/构件(link)的刚体通过关节连接而成，其相邻杆之间能够相对运动。"
   ]
  }
 ],
 "metadata": {
  "language_info": {
   "name": "python"
  },
  "orig_nbformat": 4
 },
 "nbformat": 4,
 "nbformat_minor": 2
}

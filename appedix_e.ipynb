{
 "cells": [
  {
   "cell_type": "code",
   "execution_count": null,
   "metadata": {},
   "outputs": [],
   "source": [
    "\"\"\"\n",
    " Copyright (c) 2022 'Yang Luo, luoyang@sia.cn'\n",
    " \n",
    " This software is released under the MIT License.\n",
    " https://opensource.org/licenses/MIT\n",
    "\"\"\"\n",
    "\n"
   ]
  }
 ],
 "metadata": {
  "language_info": {
   "name": "python"
  },
  "orig_nbformat": 4
 },
 "nbformat": 4,
 "nbformat_minor": 2
}
